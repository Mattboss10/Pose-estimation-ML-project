{
 "cells": [
  {
   "cell_type": "code",
   "execution_count": null,
   "id": "8d5aef06-a175-4115-bdf7-56402cef2637",
   "metadata": {
    "tags": []
   },
   "outputs": [],
   "source": [
    "!pip install mediapipe opencv-python\n",
    "#installing dependencies"
   ]
  },
  {
   "cell_type": "code",
   "execution_count": 3,
   "id": "3f46f995-082d-4a9f-96b7-86f63ada164f",
   "metadata": {
    "tags": []
   },
   "outputs": [],
   "source": [
    "import cv2 #imports opencv\n",
    "import mediapipe as mp #imports all mediapipe solutions\n",
    "import numpy as np #for trigonometry\n",
    "mp_drawing = mp.solutions.drawing_utils #all drawing utilities\n",
    "mp_pose = mp.solutions.pose #importing pose estimation model\n",
    "#importing dependecies"
   ]
  },
  {
   "cell_type": "code",
   "execution_count": null,
   "id": "7c7567e0-5b8e-4bc7-a77a-b36bb54737ce",
   "metadata": {
    "tags": []
   },
   "outputs": [],
   "source": [
    "# VIDEO FEED\n",
    "cap = cv2.VideoCapture(0)\n",
    "while cap.isOpened():\n",
    "    ret, frame = cap.read()\n",
    "     # Horizontally flipping the frame since it was flipped\n",
    "    frame = cv2.flip(frame, 1)\n",
    "    cv2.imshow('Mediapipe Feed', frame)\n",
    "    \n",
    "    if cv2.waitKey(10) & 0xFF == ord('q'):\n",
    "        break\n",
    "        \n",
    "cap.release()\n",
    "cv2.destroyAllWindows()"
   ]
  },
  {
   "cell_type": "code",
   "execution_count": null,
   "id": "813b9951-a491-4f84-8201-4e6c72b3d0ee",
   "metadata": {
    "scrolled": false,
    "tags": []
   },
   "outputs": [],
   "source": [
    "#Making the detections\n",
    "cap = cv2.VideoCapture(0)\n",
    "## Setup mediapipe instance\n",
    "with mp_pose.Pose(min_detection_confidence=0.9, min_tracking_confidence=0.5) as pose: #assing pose est. model and setting accuracy of detections\n",
    "    while cap.isOpened():\n",
    "        ret, frame = cap.read()\n",
    "        # Horizontally flipping the frame since it was flipped\n",
    "        frame = cv2.flip(frame, 1)\n",
    "        cv2.imshow('Mediapipe Feed', frame)\n",
    "        # Recolor image to RGB\n",
    "        image = cv2.cvtColor(frame, cv2.COLOR_BGR2RGB)\n",
    "        image.flags.writeable = False\n",
    "      \n",
    "        # Make detection\n",
    "        results = pose.process(image)\n",
    "    \n",
    "        # Recolor back to BGR\n",
    "        image.flags.writeable = True\n",
    "        image = cv2.cvtColor(image, cv2.COLOR_RGB2BGR)\n",
    "        \n",
    "        # Render detections\n",
    "        mp_drawing.draw_landmarks(image, results.pose_landmarks, mp_pose.POSE_CONNECTIONS,\n",
    "                                mp_drawing.DrawingSpec(color=(245,117,66), thickness=2, circle_radius=2), \n",
    "                                mp_drawing.DrawingSpec(color=(245,66,230), thickness=2, circle_radius=2) \n",
    "                                 )               \n",
    "        \n",
    "        cv2.imshow('Mediapipe Feed', image)\n",
    "\n",
    "        if cv2.waitKey(10) & 0xFF == ord('q'):\n",
    "            break\n",
    "\n",
    "    cap.release()\n",
    "    cv2.destroyAllWindows()"
   ]
  },
  {
   "cell_type": "code",
   "execution_count": null,
   "id": "bcff35f9-6da1-4c15-a069-7d22a2e7d9c6",
   "metadata": {},
   "outputs": [],
   "source": [
    "cap = cv2.VideoCapture(0)\n",
    "## Setup mediapipe instance\n",
    "with mp_pose.Pose(min_detection_confidence=0.9, min_tracking_confidence=0.5) as pose: #assing pose est. model and setting accuracy of detections\n",
    "    while cap.isOpened():\n",
    "        ret, frame = cap.read()\n",
    "        # Horizontally flipping the frame since it was flipped\n",
    "        frame = cv2.flip(frame, 1)\n",
    "        cv2.imshow('Mediapipe Feed', frame)\n",
    "        # Recolor image to RGB\n",
    "        image = cv2.cvtColor(frame, cv2.COLOR_BGR2RGB)\n",
    "        image.flags.writeable = False\n",
    "      \n",
    "        # Make detection\n",
    "        results = pose.process(image)\n",
    "    \n",
    "        # Recolor back to BGR\n",
    "        image.flags.writeable = True\n",
    "        image = cv2.cvtColor(image, cv2.COLOR_RGB2BGR)\n",
    "        \n",
    "        #extracting landmarks\n",
    "        #addinga try accept block passes the subroutine if there are no detections from the cam. feed\n",
    "        try:\n",
    "            landmarks=reults.pose_landmarks.landmark\n",
    "            print(landmarks)\n",
    "        except:\n",
    "            pass \n",
    "            \n",
    "            \n",
    "        \n",
    "        # Render detections\n",
    "        mp_drawing.draw_landmarks(image, results.pose_landmarks, mp_pose.POSE_CONNECTIONS,\n",
    "                                mp_drawing.DrawingSpec(color=(245,117,66), thickness=2, circle_radius=2), \n",
    "                                mp_drawing.DrawingSpec(color=(245,66,230), thickness=2, circle_radius=2) \n",
    "                                 )               \n",
    "        \n",
    "        cv2.imshow('Mediapipe Feed', image)\n",
    "\n",
    "        if cv2.waitKey(10) & 0xFF == ord('q'):\n",
    "            break\n",
    "\n",
    "    cap.release()\n",
    "    cv2.destroyAllWindows()"
   ]
  },
  {
   "cell_type": "code",
   "execution_count": null,
   "id": "4728dc49",
   "metadata": {},
   "outputs": [],
   "source": []
  }
 ],
 "metadata": {
  "kernelspec": {
   "display_name": "Python 3 (ipykernel)",
   "language": "python",
   "name": "python3"
  },
  "language_info": {
   "codemirror_mode": {
    "name": "ipython",
    "version": 3
   },
   "file_extension": ".py",
   "mimetype": "text/x-python",
   "name": "python",
   "nbconvert_exporter": "python",
   "pygments_lexer": "ipython3",
   "version": "3.11.5"
  }
 },
 "nbformat": 4,
 "nbformat_minor": 5
}
